{
 "cells": [
  {
   "cell_type": "code",
   "execution_count": 2,
   "id": "1a563c00-9130-4db2-bb96-9a27d0715398",
   "metadata": {},
   "outputs": [],
   "source": [
    "from casadi import *\n",
    "import numpy as np"
   ]
  },
  {
   "cell_type": "code",
   "execution_count": 9,
   "id": "db32263a-5185-4721-9245-23340a1cbf2b",
   "metadata": {},
   "outputs": [
    {
     "data": {
      "text/plain": [
       "(DM(-0.628), DM(0.2))"
      ]
     },
     "execution_count": 9,
     "metadata": {},
     "output_type": "execute_result"
    }
   ],
   "source": [
    "x1 = MX.sym('x1') \n",
    "x2 = MX.sym('x2')\n",
    "x  = MX.sym('x',2) \n",
    "u  = MX.sym('u') \n",
    "\n",
    "# Van der Pol oscillator system  (nonlinear ODE)\n",
    "ode = [(1-x2**2)*x1 - x2 + u, x1]\n",
    "\n",
    "f = Function('f',[x1,x2,u],[(1-x2**2)*x1 - x2 + u, x1])\n",
    "f(0.2,0.8,0.1)"
   ]
  },
  {
   "cell_type": "code",
   "execution_count": 12,
   "id": "60a62210-13e8-4003-a294-d1ad538791ee",
   "metadata": {},
   "outputs": [
    {
     "ename": "NameError",
     "evalue": "name 'intg_options' is not defined",
     "output_type": "error",
     "traceback": [
      "\u001b[0;31m---------------------------------------------------------------------------\u001b[0m",
      "\u001b[0;31mNameError\u001b[0m                                 Traceback (most recent call last)",
      "\u001b[0;32m<ipython-input-12-0a4df793d33c>\u001b[0m in \u001b[0;36m<module>\u001b[0;34m\u001b[0m\n\u001b[1;32m      4\u001b[0m \u001b[0;34m\u001b[0m\u001b[0m\n\u001b[1;32m      5\u001b[0m \u001b[0;31m# intg_options = struct\u001b[0m\u001b[0;34m\u001b[0m\u001b[0;34m\u001b[0m\u001b[0;34m\u001b[0m\u001b[0m\n\u001b[0;32m----> 6\u001b[0;31m \u001b[0mintg_options\u001b[0m\u001b[0;34m.\u001b[0m\u001b[0mtf\u001b[0m \u001b[0;34m=\u001b[0m \u001b[0mT\u001b[0m\u001b[0;34m/\u001b[0m\u001b[0mN\u001b[0m\u001b[0;34m\u001b[0m\u001b[0;34m\u001b[0m\u001b[0m\n\u001b[0m\u001b[1;32m      7\u001b[0m \u001b[0mintg_options\u001b[0m\u001b[0;34m.\u001b[0m\u001b[0msimplify\u001b[0m \u001b[0;34m=\u001b[0m \u001b[0mtrue\u001b[0m\u001b[0;34m\u001b[0m\u001b[0;34m\u001b[0m\u001b[0m\n\u001b[1;32m      8\u001b[0m \u001b[0mintg_options\u001b[0m\u001b[0;34m.\u001b[0m\u001b[0mnumber_of_finite_elements\u001b[0m \u001b[0;34m=\u001b[0m \u001b[0;36m4\u001b[0m\u001b[0;34m\u001b[0m\u001b[0;34m\u001b[0m\u001b[0m\n",
      "\u001b[0;31mNameError\u001b[0m: name 'intg_options' is not defined"
     ]
    }
   ],
   "source": [
    "T = 10\n",
    "N = 20\n",
    "\n",
    "\n",
    "# intg_options = struct\n",
    "intg_options.tf = T/N\n",
    "intg_options.simplify = true\n",
    "intg_options.number_of_finite_elements = 4\n",
    "\n",
    "dae = struct\n",
    "dae.x1 = x1\n",
    "dae.x2 = x2\n",
    "dae.p = u        \n",
    "dae.ode = f(x1,x2,u)  \n",
    "\n",
    "intg = integrator('intg','rk',dae,intg_options)"
   ]
  },
  {
   "cell_type": "code",
   "execution_count": 32,
   "id": "b3befbc9-364a-45f0-83fb-18368941e6e8",
   "metadata": {},
   "outputs": [],
   "source": [
    "def sum_add(a,b):\n",
    "    \n",
    "    \n",
    "    s =  [a+b]\n",
    "#     print(type())\n",
    "    return s"
   ]
  },
  {
   "cell_type": "code",
   "execution_count": 33,
   "id": "fb253db6-da23-4c9c-89b7-bfbe5471410c",
   "metadata": {},
   "outputs": [],
   "source": [
    "a = SX.sym('a',1)\n",
    "b = SX.sym('b',1)\n",
    "\n",
    "func = Function('func',[a,b],sum_add(a,b))\n"
   ]
  },
  {
   "cell_type": "code",
   "execution_count": 34,
   "id": "b560551c-1760-4260-bda8-fe53558e612e",
   "metadata": {},
   "outputs": [
    {
     "data": {
      "text/plain": [
       "DM(2)"
      ]
     },
     "execution_count": 34,
     "metadata": {},
     "output_type": "execute_result"
    }
   ],
   "source": [
    "waypoint = np.ar\n",
    "func(,1)"
   ]
  },
  {
   "cell_type": "code",
   "execution_count": 19,
   "id": "f144f198-5f94-4aa8-8231-fee9ac487ed2",
   "metadata": {},
   "outputs": [
    {
     "name": "stdout",
     "output_type": "stream",
     "text": [
      "<class 'builtin_function_or_method'>\n"
     ]
    }
   ],
   "source": [
    "sum_add(1,1)"
   ]
  },
  {
   "cell_type": "code",
   "execution_count": 35,
   "id": "89ccde08-0c61-40fa-8bcb-ebc0c5c657d6",
   "metadata": {},
   "outputs": [],
   "source": [
    "a = [[0,1,0,1],[0,1,1,1]]"
   ]
  },
  {
   "cell_type": "code",
   "execution_count": 39,
   "id": "751923b4-eae5-47ef-ace4-c062e3102663",
   "metadata": {},
   "outputs": [
    {
     "name": "stdout",
     "output_type": "stream",
     "text": [
      "(2, 4)\n"
     ]
    }
   ],
   "source": [
    "# print(a[:])\n",
    "print(np.shape(a))"
   ]
  },
  {
   "cell_type": "code",
   "execution_count": 40,
   "id": "d5a6e6b1-8ee2-4de0-aad1-8dd3d88a47e1",
   "metadata": {},
   "outputs": [
    {
     "name": "stdout",
     "output_type": "stream",
     "text": [
      "[0, 0]\n"
     ]
    }
   ],
   "source": [
    "slic = [a[i][0] for i in range(0,2)]\n",
    "print(slic)"
   ]
  },
  {
   "cell_type": "code",
   "execution_count": 46,
   "id": "16fbfbb4-ff62-4f1b-b185-96f819542a4c",
   "metadata": {},
   "outputs": [
    {
     "name": "stdout",
     "output_type": "stream",
     "text": [
      "0\n",
      "[2, 3]\n"
     ]
    }
   ],
   "source": [
    "array = [[2,3],[4,5]]\n",
    "print(array.index(min(array)))\n",
    "print(array[0])"
   ]
  },
  {
   "cell_type": "code",
   "execution_count": 50,
   "id": "822a4677-10ee-407d-9442-7bc4c84fbbab",
   "metadata": {},
   "outputs": [
    {
     "ename": "TypeError",
     "evalue": "list indices must be integers or slices, not tuple",
     "output_type": "error",
     "traceback": [
      "\u001b[0;31m---------------------------------------------------------------------------\u001b[0m",
      "\u001b[0;31mTypeError\u001b[0m                                 Traceback (most recent call last)",
      "\u001b[0;32m<ipython-input-50-83fdfadc9fd2>\u001b[0m in \u001b[0;36m<module>\u001b[0;34m\u001b[0m\n\u001b[0;32m----> 1\u001b[0;31m \u001b[0mprint\u001b[0m\u001b[0;34m(\u001b[0m\u001b[0marray\u001b[0m\u001b[0;34m[\u001b[0m\u001b[0;36m0\u001b[0m\u001b[0;34m,\u001b[0m\u001b[0;36m1\u001b[0m\u001b[0;34m]\u001b[0m\u001b[0;34m)\u001b[0m\u001b[0;34m\u001b[0m\u001b[0;34m\u001b[0m\u001b[0m\n\u001b[0m",
      "\u001b[0;31mTypeError\u001b[0m: list indices must be integers or slices, not tuple"
     ]
    }
   ],
   "source": [
    "print(array[0,1])"
   ]
  },
  {
   "cell_type": "code",
   "execution_count": 3,
   "id": "63925ce8-211c-4d0d-b65d-b2aa2453f695",
   "metadata": {},
   "outputs": [
    {
     "name": "stdout",
     "output_type": "stream",
     "text": [
      "[3 4 5 6]\n"
     ]
    }
   ],
   "source": [
    "A = np.array([0,1,2,3,4,5,6,7,8,9,10],)\n",
    "print(A[5-2:5+2])"
   ]
  },
  {
   "cell_type": "code",
   "execution_count": null,
   "id": "f7ac2468-b4fe-4fdf-aea4-cafad624facc",
   "metadata": {},
   "outputs": [],
   "source": []
  }
 ],
 "metadata": {
  "kernelspec": {
   "display_name": "Python 3",
   "language": "python",
   "name": "python3"
  },
  "language_info": {
   "codemirror_mode": {
    "name": "ipython",
    "version": 3
   },
   "file_extension": ".py",
   "mimetype": "text/x-python",
   "name": "python",
   "nbconvert_exporter": "python",
   "pygments_lexer": "ipython3",
   "version": "3.7.10"
  }
 },
 "nbformat": 4,
 "nbformat_minor": 5
}
