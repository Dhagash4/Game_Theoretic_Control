{
 "metadata": {
  "language_info": {
   "codemirror_mode": {
    "name": "ipython",
    "version": 3
   },
   "file_extension": ".py",
   "mimetype": "text/x-python",
   "name": "python",
   "nbconvert_exporter": "python",
   "pygments_lexer": "ipython3",
   "version": "3.8.5"
  },
  "orig_nbformat": 2,
  "kernelspec": {
   "name": "python385jvsc74a57bd038b37f5ec00e2fdf2a06f74e981baf2e732ec0f0456ddfe67ccbb4bb5bf4923e",
   "display_name": "Python 3.8.5 64-bit ('base': conda)"
  }
 },
 "nbformat": 4,
 "nbformat_minor": 2,
 "cells": [
  {
   "cell_type": "code",
   "execution_count": 1,
   "metadata": {},
   "outputs": [],
   "source": [
    "import glob\n",
    "import getopt\n",
    "import pickle\n",
    "import os, sys\n",
    "import numpy as np\n",
    "from casadi import *\n",
    "from numpy.lib.utils import info\n",
    "from scipy.sparse import csc_matrix\n",
    "\n",
    "sys.path.append('..')\n",
    "\n",
    "from Common.util import *\n",
    "from Common.custom_dataclass import *"
   ]
  },
  {
   "cell_type": "code",
   "execution_count": 86,
   "metadata": {},
   "outputs": [],
   "source": [
    "waypoints = np.loadtxt('../../Data/2D_waypoints.txt')\n",
    "waypoints = waypoints.tolist()\n",
    "\n",
    "def nearest_state(curr_state, waypoints, vx_des, vy_des):\n",
    "    l = len(waypoints)\n",
    "\n",
    "    x_r = curr_state[0]\n",
    "    y_r = curr_state[1]\n",
    "\n",
    "    nearest_state = [0, 0, 0, MX(vx_des), MX(vy_des)]\n",
    "\n",
    "    # Search nearest waypoint index\n",
    "    dx = vcat([(x_r - pose[0])**2 for pose in waypoints])\n",
    "    dy = vcat([(y_r - pose[1])**2 for pose in waypoints])\n",
    "    dist_sq = dx + dy\n",
    "\n",
    "    waypoints = MX(hcat(waypoints))\n",
    "    \n",
    "    minimum = inf\n",
    "    idx_1 = 0\n",
    "    for i in range(l):\n",
    "        idx_1 = if_else(dist_sq[i] < minimum, i, idx_1)\n",
    "        minimum = if_else(dist_sq[i] < minimum, dist_sq[i], minimum)\n",
    "\n",
    "    idx_2 = if_else(dist_sq[idx_1 + 1] < dist_sq[idx_1 - 1], idx_1 + 1, idx_1 - 1)\n",
    "\n",
    "    x1 = waypoints[0, idx_1]\n",
    "    y1 = waypoints[1, idx_1]\n",
    "    x2 = waypoints[0, idx_2]\n",
    "    y2 = waypoints[1, idx_2]\n",
    "\n",
    "    l = ((x2 ** 2) + (y2 ** 2) - (x1 * x2 + y1 * y2) + x_r * (x1 - x2) + y_r * (y1 - y2)) / (((x1 - x2) ** 2) + ((y1 - y2) ** 2))\n",
    "    \n",
    "    nearest_state[0] = l * waypoints[0, idx_1] + (1 - l) * waypoints[0, idx_2]\n",
    "    nearest_state[1] = l * waypoints[1, idx_1] + (1 - l) * waypoints[1, idx_2]\n",
    "    nearest_state[2] = l * waypoints[2, idx_1] + (1 - l) * waypoints[2, idx_2]\n",
    "\n",
    "    return MX(vcat(nearest_state))"
   ]
  },
  {
   "cell_type": "code",
   "execution_count": 91,
   "metadata": {},
   "outputs": [],
   "source": [
    "vx_des = 14.0\n",
    "vy_des = 0.0\n",
    "\n",
    "s = MX.sym('s', 5)\n",
    "x, y, yaw, vx, vy = s[0], s[1], s[2], s[3], s[4]\n",
    "\n",
    "u = MX.sym('u', 2)\n",
    "acc, delta = [u[0], u[1]]   \n",
    "\n",
    "prediction = vertcat(x + sqrt(vx**2 + vy**2) * cos(atan2(tan(delta), 2) + yaw) * 0.03,\n",
    "                        y + sqrt(vx**2 + vy**2) * sin(atan2(tan(delta), 2) + yaw) * 0.03,\n",
    "                        yaw + (sqrt(vx**2 + vy**2) * tan(delta) * 0.03 / sqrt((19.8025) + (4.95 * tan(delta)**2))),\n",
    "                        vx + ((4.22 * acc) - (-0.0013 * sqrt(vx**2 + vy**2) * vx - 0.362 * vx)) * 0.03,\n",
    "                        vy - (1.318 * (atan2(vy, vx) - delta) + (-0.0013 * sqrt(vx**2 + vy**2) + 0.362) * vy) * 0.03)\n",
    "\n",
    "pred = Function('pred', [s, u], [prediction])"
   ]
  },
  {
   "cell_type": "code",
   "execution_count": 92,
   "metadata": {
    "tags": []
   },
   "outputs": [
    {
     "output_type": "stream",
     "name": "stdout",
     "text": [
      "This is Ipopt version 3.12.3, running with linear solver mumps.\nNOTE: Other linear solvers might be more efficient (see Ipopt documentation).\n\nNumber of nonzeros in equality constraint Jacobian...:       44\nNumber of nonzeros in inequality constraint Jacobian.:        2\nNumber of nonzeros in Lagrangian Hessian.............:       17\n\nTotal number of variables............................:       22\n                     variables with only lower bounds:        0\n                variables with lower and upper bounds:        0\n                     variables with only upper bounds:        0\nTotal number of equality constraints.................:       15\nTotal number of inequality constraints...............:        2\n        inequality constraints with only lower bounds:        0\n   inequality constraints with lower and upper bounds:        2\n        inequality constraints with only upper bounds:        0\n\niter    objective    inf_pr   inf_du lg(mu)  ||d||  lg(rg) alpha_du alpha_pr  ls\n   0  1.0000000e+01 1.11e+02 1.26e-01  -1.0 0.00e+00    -  0.00e+00 0.00e+00   0\n   1  4.3198929e+04 6.64e+01 1.50e+01  -1.0 1.11e+02  -4.0 6.64e-01 1.00e+00h  1\n   2  4.3413415e+04 1.12e-03 4.64e+03  -1.0 6.64e+01   1.8 1.00e+00 1.00e+00h  1\n   3  4.3412484e+04 5.71e-04 9.02e+00  -1.0 4.84e-02   2.3 1.00e+00 1.00e+00f  1\n   4  4.3404821e+04 5.65e-02 7.10e+01  -1.0 7.17e-01   1.8 1.00e+00 5.49e-01f  1\n   5  4.3404247e+04 5.59e-02 7.09e+01  -1.0 3.52e-01   2.2 1.00e+00 1.12e-02f  1\n   6  4.3390691e+04 6.24e-07 3.05e+00  -1.0 5.52e-02   1.7 1.00e+00 1.00e+00f  1\n   7  4.3390633e+04 2.09e-08 1.84e-01  -1.0 9.99e-03   1.3 1.00e+00 1.00e+00f  1\n   8  4.3390441e+04 4.32e-07 1.63e-01  -2.5 2.65e-02   0.8 9.98e-01 1.00e+00f  1\n   9  4.3390439e+04 3.14e-12 1.29e-03  -2.5 6.31e-04   0.3 1.00e+00 1.00e+00h  1\niter    objective    inf_pr   inf_du lg(mu)  ||d||  lg(rg) alpha_du alpha_pr  ls\n  10  4.3390434e+04 3.27e-10 4.70e-04  -3.8 6.89e-04  -0.2 1.00e+00 1.00e+00f  1\n  11  4.3390434e+04 9.95e-13 9.47e-06  -5.7 4.17e-05  -0.6 1.00e+00 1.00e+00f  1\n  12  4.3390434e+04 1.42e-14 3.82e-08  -8.6 5.05e-07  -1.1 1.00e+00 1.00e+00f  1\n  13  4.3390434e+04 1.24e-39 7.11e-14  -8.6 2.42e-12  -1.6 1.00e+00 1.00e+00h  1\n\nNumber of Iterations....: 13\n\n                                   (scaled)                 (unscaled)\nObjective...............:   4.3390433754083781e+04    4.3390433754083781e+04\nDual infeasibility......:   7.1054273576010019e-14    7.1054273576010019e-14\nConstraint violation....:   1.2432161891506770e-39    1.2432161891506770e-39\nComplementarity.........:   2.5059035598664032e-09    2.5059035598664032e-09\nOverall NLP error.......:   2.5059035598664032e-09    2.5059035598664032e-09\n\n\nNumber of objective function evaluations             = 14\nNumber of objective gradient evaluations             = 14\nNumber of equality constraint evaluations            = 14\nNumber of inequality constraint evaluations          = 14\nNumber of equality constraint Jacobian evaluations   = 14\nNumber of inequality constraint Jacobian evaluations = 14\nNumber of Lagrangian Hessian evaluations             = 13\nTotal CPU secs in IPOPT (w/o function evaluations)   =      0.019\nTotal CPU secs in NLP function evaluations           =      0.076\n\nEXIT: Optimal Solution Found.\n      solver  :   t_proc      (avg)   t_wall      (avg)    n_eval\n       nlp_f  |  55.00us (  3.93us)  52.72us (  3.77us)        14\n       nlp_g  |  36.11ms (  2.58ms)  36.24ms (  2.59ms)        14\n    nlp_grad  |   2.29ms (  2.29ms)   2.30ms (  2.30ms)         1\n  nlp_grad_f  | 138.00us (  9.20us) 133.39us (  8.89us)        15\n  nlp_hess_l  |   1.52ms (116.92us)   1.53ms (117.51us)        13\n   nlp_jac_g  |  43.81ms (  2.92ms)  43.83ms (  2.92ms)        15\n       total  | 102.10ms (102.10ms) 101.63ms (101.63ms)         1\n"
     ]
    }
   ],
   "source": [
    "opti = Opti()\n",
    "\n",
    "N = 1\n",
    "s = opti.variable(5, N + 1)\n",
    "e = opti.variable(5, N + 1)\n",
    "u = opti.variable(2, N)\n",
    "p = opti.parameter(5, 1)\n",
    "\n",
    "opti.minimize(sumsqr(s))\n",
    "\n",
    "for k in range(N):\n",
    "    opti.subject_to(e[:, k] == s[:, k] - nearest_state(s[:, k], waypoints, vx_des, vy_des))\n",
    "    opti.subject_to(s[:, k+1] == pred(s[:, k], u[:, k]))\n",
    "\n",
    "opti.subject_to(s[:, 0] == p)\n",
    "\n",
    "# Set using true states\n",
    "opti.set_value(p, [waypoints[1][0],waypoints[1][1],waypoints[1][2], vx_des, vy_des])\n",
    "\n",
    "opti.subject_to( opti.bounded(0, u[0, :], 1) )\n",
    "opti.subject_to(opti.bounded(-1.22, u[1, :], 1.22))\n",
    "\n",
    "# Avoid NaN error\n",
    "opti.set_initial(s, 1)\n",
    "\n",
    "opti.solver('ipopt')\n",
    "\n",
    "sol = opti.solve()"
   ]
  }
 ]
}