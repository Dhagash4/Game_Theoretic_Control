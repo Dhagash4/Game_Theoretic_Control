{
 "metadata": {
  "language_info": {
   "codemirror_mode": {
    "name": "ipython",
    "version": 3
   },
   "file_extension": ".py",
   "mimetype": "text/x-python",
   "name": "python",
   "nbconvert_exporter": "python",
   "pygments_lexer": "ipython3",
   "version": "3.8.5"
  },
  "orig_nbformat": 2,
  "kernelspec": {
   "name": "python385jvsc74a57bd038b37f5ec00e2fdf2a06f74e981baf2e732ec0f0456ddfe67ccbb4bb5bf4923e",
   "display_name": "Python 3.8.5 64-bit ('base': conda)"
  }
 },
 "nbformat": 4,
 "nbformat_minor": 2,
 "cells": [
  {
   "cell_type": "code",
   "execution_count": 19,
   "metadata": {},
   "outputs": [],
   "source": [
    "import numpy as np\n",
    "from casadi import *\n",
    "from scipy.sparse import csc_matrix"
   ]
  },
  {
   "cell_type": "code",
   "execution_count": 20,
   "metadata": {},
   "outputs": [
    {
     "output_type": "stream",
     "name": "stdout",
     "text": [
      "x\n[y_0, y_1, y_2, y_3, y_4]\n\n[[Z_0, Z_4, Z_8, Z_12], \n [Z_1, Z_5, Z_9, Z_13], \n [Z_2, Z_6, Z_10, Z_14], \n [Z_3, Z_7, Z_11, Z_15]]\n"
     ]
    }
   ],
   "source": [
    "x = MX.sym('x')\n",
    "y = SX.sym('y', 5)\n",
    "Z = SX.sym('Z', 4, 4)\n",
    "print(x)\n",
    "print(y)\n",
    "print(Z)"
   ]
  },
  {
   "cell_type": "code",
   "execution_count": 21,
   "metadata": {},
   "outputs": [
    {
     "output_type": "stream",
     "name": "stdout",
     "text": [
      "sq(x)\n"
     ]
    }
   ],
   "source": [
    "f = x ** 2\n",
    "print(f)"
   ]
  },
  {
   "cell_type": "code",
   "execution_count": 27,
   "metadata": {},
   "outputs": [],
   "source": [
    "C = DM(2,3)\n",
    "\n",
    "C_dense = C.full()\n",
    "C_dense = np.array(C) # equivalent\n",
    "\n",
    "C_sparse = C.sparse()\n",
    "C_sparse = csc_matrix(C) # equivalent"
   ]
  },
  {
   "cell_type": "code",
   "execution_count": 34,
   "metadata": {},
   "outputs": [
    {
     "output_type": "stream",
     "name": "stdout",
     "text": [
      "function:  @1=3, \n[[((@1*x_0)+y), ((@1*x_2)+y)], \n [((@1*x_1)+y), ((@1*x_3)+y)]] \n\n Shape:  (2, 2)\n"
     ]
    }
   ],
   "source": [
    "x = SX.sym('x', 2, 2)\n",
    "y = SX.sym('y')\n",
    "f = 3 * x + y\n",
    "print('function: ', f, '\\n\\n Shape: ', f.shape)"
   ]
  },
  {
   "cell_type": "code",
   "execution_count": 35,
   "metadata": {},
   "outputs": [
    {
     "output_type": "stream",
     "name": "stdout",
     "text": [
      "function:  ((3*x)+y) \n\n Shape:  (2, 2)\n"
     ]
    }
   ],
   "source": [
    "x = MX.sym('x', 2, 2)\n",
    "y = MX.sym('y')\n",
    "f = 3 * x + y\n",
    "print('function: ', f, '\\n\\n Shape: ', f.shape)"
   ]
  },
  {
   "cell_type": "code",
   "execution_count": 36,
   "metadata": {},
   "outputs": [
    {
     "output_type": "stream",
     "name": "stdout",
     "text": [
      "[[1, 2]]\n@1=1, \n[[@1, @1], \n [3, 4]]\n"
     ]
    }
   ],
   "source": [
    "M = SX([[1, 2], [3, 4]])\n",
    "print(M[0, :])\n",
    "M[0, :] = 1\n",
    "print(M)"
   ]
  },
  {
   "cell_type": "code",
   "execution_count": 39,
   "metadata": {},
   "outputs": [
    {
     "output_type": "stream",
     "name": "stdout",
     "text": [
      "This is Ipopt version 3.12.3, running with linear solver mumps.\nNOTE: Other linear solvers might be more efficient (see Ipopt documentation).\n\nNumber of nonzeros in equality constraint Jacobian...:        2\nNumber of nonzeros in inequality constraint Jacobian.:        2\nNumber of nonzeros in Lagrangian Hessian.............:        3\n\nTotal number of variables............................:        2\n                     variables with only lower bounds:        0\n                variables with lower and upper bounds:        0\n                     variables with only upper bounds:        0\nTotal number of equality constraints.................:        1\nTotal number of inequality constraints...............:        1\n        inequality constraints with only lower bounds:        1\n   inequality constraints with lower and upper bounds:        0\n        inequality constraints with only upper bounds:        0\n\niter    objective    inf_pr   inf_du lg(mu)  ||d||  lg(rg) alpha_du alpha_pr  ls\n   0  0.0000000e+00 1.00e+00 1.00e+00  -1.0 0.00e+00    -  0.00e+00 0.00e+00   0\n   1  1.5180703e+00 2.32e-01 3.95e+08  -1.0 1.11e+00    -  9.90e-01 1.00e+00h  1\n   2  9.1720733e-01 1.38e-02 8.65e+08  -1.0 1.05e-01  10.0 1.00e+00 1.00e+00f  1\n   3  8.9187743e-01 4.67e-05 9.29e+06  -1.0 7.19e-03    -  1.00e+00 1.00e+00h  1\n   4  8.9179090e-01 5.46e-10 2.17e+02  -1.0 2.42e-05    -  1.00e+00 1.00e+00h  1\n   5  8.5961118e-01 2.43e-04 3.39e+00  -1.0 1.56e-02    -  1.00e+00 1.00e+00f  1\n   6  5.0768568e-01 3.58e-02 2.18e+00  -1.0 1.89e-01    -  3.86e-01 1.00e+00f  1\n   7  4.4751644e-01 4.12e-04 6.30e+07  -1.0 1.96e-02   9.5 1.00e+00 1.00e+00h  1\n   8  4.4707538e-01 4.25e-08 2.27e+04  -1.0 2.53e-04    -  1.00e+00 1.00e+00h  1\n   9  4.4688522e-01 9.34e-09 2.20e+00  -1.0 9.32e-05    -  1.00e+00 1.00e+00h  1\niter    objective    inf_pr   inf_du lg(mu)  ||d||  lg(rg) alpha_du alpha_pr  ls\n  10  2.9995484e-02 3.46e-01 1.19e+00  -1.0 5.68e-01    -  5.45e-01 1.00e+00f  1\n  11  3.9964883e-04 3.56e-02 5.81e-02  -1.0 2.09e-01    -  1.00e+00 1.00e+00h  1\n  12  3.7581923e-06 5.63e-04 5.70e-03  -2.5 2.69e-02    -  1.00e+00 1.00e+00h  1\n  13  7.6573980e-10 1.48e-06 3.13e-05  -3.8 1.11e-03    -  1.00e+00 1.00e+00h  1\n  14  4.8778322e-14 2.53e-10 7.52e-09  -5.7 1.29e-05    -  1.00e+00 1.00e+00h  1\n  15  8.8029044e-20 1.60e-14 6.47e-13  -8.6 9.88e-08    -  1.00e+00 1.00e+00h  1\n\nNumber of Iterations....: 15\n\n                                   (scaled)                 (unscaled)\nObjective...............:   8.8029044107981477e-20    8.8029044107981477e-20\nDual infeasibility......:   6.4749359007033628e-13    6.4749359007033628e-13\nConstraint violation....:   1.5987211554602254e-14    1.5987211554602254e-14\nComplementarity.........:   2.5060006300474834e-09    2.5060006300474834e-09\nOverall NLP error.......:   2.5060006300474834e-09    2.5060006300474834e-09\n\n\nNumber of objective function evaluations             = 16\nNumber of objective gradient evaluations             = 16\nNumber of equality constraint evaluations            = 16\nNumber of inequality constraint evaluations          = 16\nNumber of equality constraint Jacobian evaluations   = 16\nNumber of inequality constraint Jacobian evaluations = 16\nNumber of Lagrangian Hessian evaluations             = 15\nTotal CPU secs in IPOPT (w/o function evaluations)   =      0.010\nTotal CPU secs in NLP function evaluations           =      0.001\n\nEXIT: Optimal Solution Found.\n      solver  :   t_proc      (avg)   t_wall      (avg)    n_eval\n       nlp_f  |  41.00us (  2.56us)  39.94us (  2.50us)        16\n       nlp_g  | 121.00us (  7.56us) 107.79us (  6.74us)        16\n  nlp_grad_f  |  73.00us (  4.29us)  72.78us (  4.28us)        17\n  nlp_hess_l  | 101.00us (  6.73us)  88.05us (  5.87us)        15\n   nlp_jac_g  |  98.00us (  5.76us)  96.61us (  5.68us)        17\n       total  |  11.75ms ( 11.75ms)  10.08ms ( 10.08ms)         1\n0.7861513776531158 0.6180339888825889\n"
     ]
    }
   ],
   "source": [
    "opti = Opti()\n",
    "\n",
    "x = opti.variable()\n",
    "y = opti.variable()\n",
    "\n",
    "opti.minimize(  (y - x ** 2) ** 2   )\n",
    "opti.subject_to(    x ** 2 + y ** 2 == 1    )\n",
    "opti.subject_to(    x + y >= 1  )\n",
    "\n",
    "opti.solver('ipopt')\n",
    "\n",
    "sol = opti.solve()\n",
    "print(sol.value(x), sol.value(y))"
   ]
  },
  {
   "cell_type": "code",
   "execution_count": null,
   "metadata": {},
   "outputs": [],
   "source": []
  }
 ]
}